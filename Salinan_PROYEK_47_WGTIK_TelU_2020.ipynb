{
  "nbformat": 4,
  "nbformat_minor": 0,
  "metadata": {
    "colab": {
      "name": "Salinan PROYEK-47-WGTIK-TelU-2020.ipynb",
      "provenance": [],
      "collapsed_sections": []
    },
    "kernelspec": {
      "name": "python3",
      "display_name": "Python 3"
    }
  },
  "cells": [
    {
      "cell_type": "markdown",
      "metadata": {
        "id": "4kLosNQbGCkB"
      },
      "source": [
        "# Mini Project Wawasan Global TIK\n",
        "**Judul Project    :** Analisis dan Visualisasi Data Kasus COVID-19 Berdasarkan Jumlah Kasus Positif dan Jumlah Kasus Sembuh di Jawa Barat Menggunakan Bahasa Python\n",
        "\n",
        "**Nomor Kelompok   :** 47\n",
        "\n",
        "**Anggota Kelompok :** \n",
        "1.   Livia Naura Aqilla (1301194089)\n",
        "2.   Vena Erla Candrika (1301194040)\n",
        "3. Nanda Ihwani Saputri (1301194107)\n",
        "4. Ni Made Dwipadini Puspitarini (1301194141)\n",
        "5. Claudia Mei Serin Sitio (1301190424)\n",
        "\n",
        "\n",
        "\n",
        "\n",
        "\n",
        "\n"
      ]
    },
    {
      "cell_type": "markdown",
      "metadata": {
        "id": "48B-Tvo4J807"
      },
      "source": [
        "# Menampilkan Dataset"
      ]
    },
    {
      "cell_type": "code",
      "metadata": {
        "colab": {
          "base_uri": "https://localhost:8080/"
        },
        "id": "jB6-fVqNP0uD",
        "outputId": "2f18ae2f-13ad-4d1a-89d2-12a4a395fd24"
      },
      "source": [
        "!pip install pandas"
      ],
      "execution_count": null,
      "outputs": [
        {
          "output_type": "stream",
          "text": [
            "Requirement already satisfied: pandas in /usr/local/lib/python3.6/dist-packages (1.1.5)\n",
            "Requirement already satisfied: numpy>=1.15.4 in /usr/local/lib/python3.6/dist-packages (from pandas) (1.19.4)\n",
            "Requirement already satisfied: pytz>=2017.2 in /usr/local/lib/python3.6/dist-packages (from pandas) (2018.9)\n",
            "Requirement already satisfied: python-dateutil>=2.7.3 in /usr/local/lib/python3.6/dist-packages (from pandas) (2.8.1)\n",
            "Requirement already satisfied: six>=1.5 in /usr/local/lib/python3.6/dist-packages (from python-dateutil>=2.7.3->pandas) (1.15.0)\n"
          ],
          "name": "stdout"
        }
      ]
    },
    {
      "cell_type": "code",
      "metadata": {
        "colab": {
          "base_uri": "https://localhost:8080/"
        },
        "id": "_u2pjaiCP3qY",
        "outputId": "c6f157c0-23f9-46d1-9f14-230dcc3f3491"
      },
      "source": [
        "!pip install numpy"
      ],
      "execution_count": null,
      "outputs": [
        {
          "output_type": "stream",
          "text": [
            "Requirement already satisfied: numpy in /usr/local/lib/python3.6/dist-packages (1.19.4)\n"
          ],
          "name": "stdout"
        }
      ]
    },
    {
      "cell_type": "code",
      "metadata": {
        "colab": {
          "base_uri": "https://localhost:8080/"
        },
        "id": "BCV1BsYFP5rA",
        "outputId": "f6603abf-601b-494f-9415-2e5651fa928a"
      },
      "source": [
        "!pip install matplotlib"
      ],
      "execution_count": null,
      "outputs": [
        {
          "output_type": "stream",
          "text": [
            "Requirement already satisfied: matplotlib in /usr/local/lib/python3.6/dist-packages (3.2.2)\n",
            "Requirement already satisfied: python-dateutil>=2.1 in /usr/local/lib/python3.6/dist-packages (from matplotlib) (2.8.1)\n",
            "Requirement already satisfied: kiwisolver>=1.0.1 in /usr/local/lib/python3.6/dist-packages (from matplotlib) (1.3.1)\n",
            "Requirement already satisfied: pyparsing!=2.0.4,!=2.1.2,!=2.1.6,>=2.0.1 in /usr/local/lib/python3.6/dist-packages (from matplotlib) (2.4.7)\n",
            "Requirement already satisfied: numpy>=1.11 in /usr/local/lib/python3.6/dist-packages (from matplotlib) (1.19.4)\n",
            "Requirement already satisfied: cycler>=0.10 in /usr/local/lib/python3.6/dist-packages (from matplotlib) (0.10.0)\n",
            "Requirement already satisfied: six>=1.5 in /usr/local/lib/python3.6/dist-packages (from python-dateutil>=2.1->matplotlib) (1.15.0)\n"
          ],
          "name": "stdout"
        }
      ]
    },
    {
      "cell_type": "code",
      "metadata": {
        "id": "KyFIApQMP8N6"
      },
      "source": [
        "import pandas as pd\n",
        "import numpy as np\n",
        "import matplotlib.pyplot as plt"
      ],
      "execution_count": null,
      "outputs": []
    },
    {
      "cell_type": "code",
      "metadata": {
        "id": "JAjVBXW-ZSA0"
      },
      "source": [
        "url =  'https://raw.githubusercontent.com/krobus00/dataset/master/CovidJabar.csv'\n",
        "df = pd.read_csv(url)"
      ],
      "execution_count": null,
      "outputs": []
    },
    {
      "cell_type": "code",
      "metadata": {
        "colab": {
          "base_uri": "https://localhost:8080/",
          "height": 306
        },
        "id": "tfsDeTqmZV-j",
        "outputId": "0964d0b3-c71d-4eb3-fea2-cc84bdc1bc58"
      },
      "source": [
        "df.head()"
      ],
      "execution_count": null,
      "outputs": [
        {
          "output_type": "execute_result",
          "data": {
            "text/html": [
              "<div>\n",
              "<style scoped>\n",
              "    .dataframe tbody tr th:only-of-type {\n",
              "        vertical-align: middle;\n",
              "    }\n",
              "\n",
              "    .dataframe tbody tr th {\n",
              "        vertical-align: top;\n",
              "    }\n",
              "\n",
              "    .dataframe thead th {\n",
              "        text-align: right;\n",
              "    }\n",
              "</style>\n",
              "<table border=\"1\" class=\"dataframe\">\n",
              "  <thead>\n",
              "    <tr style=\"text-align: right;\">\n",
              "      <th></th>\n",
              "      <th>Date</th>\n",
              "      <th>Location ISO Code</th>\n",
              "      <th>Location</th>\n",
              "      <th>New Cases</th>\n",
              "      <th>New Deaths</th>\n",
              "      <th>New Recovered</th>\n",
              "      <th>New Active Cases</th>\n",
              "      <th>Total Cases</th>\n",
              "      <th>Total Deaths</th>\n",
              "      <th>Total Recovered</th>\n",
              "      <th>Total Active Cases</th>\n",
              "    </tr>\n",
              "  </thead>\n",
              "  <tbody>\n",
              "    <tr>\n",
              "      <th>0</th>\n",
              "      <td>3/2/2020</td>\n",
              "      <td>ID-JB</td>\n",
              "      <td>Jawa Barat</td>\n",
              "      <td>3</td>\n",
              "      <td>0</td>\n",
              "      <td>0</td>\n",
              "      <td>3</td>\n",
              "      <td>12</td>\n",
              "      <td>5</td>\n",
              "      <td>14</td>\n",
              "      <td>-7</td>\n",
              "    </tr>\n",
              "    <tr>\n",
              "      <th>1</th>\n",
              "      <td>3/3/2020</td>\n",
              "      <td>ID-JB</td>\n",
              "      <td>Jawa Barat</td>\n",
              "      <td>1</td>\n",
              "      <td>1</td>\n",
              "      <td>0</td>\n",
              "      <td>0</td>\n",
              "      <td>13</td>\n",
              "      <td>6</td>\n",
              "      <td>14</td>\n",
              "      <td>-7</td>\n",
              "    </tr>\n",
              "    <tr>\n",
              "      <th>2</th>\n",
              "      <td>3/4/2020</td>\n",
              "      <td>ID-JB</td>\n",
              "      <td>Jawa Barat</td>\n",
              "      <td>1</td>\n",
              "      <td>0</td>\n",
              "      <td>0</td>\n",
              "      <td>1</td>\n",
              "      <td>14</td>\n",
              "      <td>6</td>\n",
              "      <td>14</td>\n",
              "      <td>-6</td>\n",
              "    </tr>\n",
              "    <tr>\n",
              "      <th>3</th>\n",
              "      <td>3/5/2020</td>\n",
              "      <td>ID-JB</td>\n",
              "      <td>Jawa Barat</td>\n",
              "      <td>1</td>\n",
              "      <td>0</td>\n",
              "      <td>0</td>\n",
              "      <td>1</td>\n",
              "      <td>15</td>\n",
              "      <td>6</td>\n",
              "      <td>14</td>\n",
              "      <td>-5</td>\n",
              "    </tr>\n",
              "    <tr>\n",
              "      <th>4</th>\n",
              "      <td>3/6/2020</td>\n",
              "      <td>ID-JB</td>\n",
              "      <td>Jawa Barat</td>\n",
              "      <td>1</td>\n",
              "      <td>0</td>\n",
              "      <td>0</td>\n",
              "      <td>1</td>\n",
              "      <td>16</td>\n",
              "      <td>6</td>\n",
              "      <td>14</td>\n",
              "      <td>-4</td>\n",
              "    </tr>\n",
              "  </tbody>\n",
              "</table>\n",
              "</div>"
            ],
            "text/plain": [
              "       Date Location ISO Code  ... Total Recovered  Total Active Cases\n",
              "0  3/2/2020             ID-JB  ...              14                  -7\n",
              "1  3/3/2020             ID-JB  ...              14                  -7\n",
              "2  3/4/2020             ID-JB  ...              14                  -6\n",
              "3  3/5/2020             ID-JB  ...              14                  -5\n",
              "4  3/6/2020             ID-JB  ...              14                  -4\n",
              "\n",
              "[5 rows x 11 columns]"
            ]
          },
          "metadata": {
            "tags": []
          },
          "execution_count": 15
        }
      ]
    },
    {
      "cell_type": "code",
      "metadata": {
        "colab": {
          "base_uri": "https://localhost:8080/",
          "height": 294
        },
        "id": "IF5zXQh5vmPU",
        "outputId": "db470c01-6787-4561-825f-203533b0a838"
      },
      "source": [
        "df.describe()"
      ],
      "execution_count": null,
      "outputs": [
        {
          "output_type": "execute_result",
          "data": {
            "text/html": [
              "<div>\n",
              "<style scoped>\n",
              "    .dataframe tbody tr th:only-of-type {\n",
              "        vertical-align: middle;\n",
              "    }\n",
              "\n",
              "    .dataframe tbody tr th {\n",
              "        vertical-align: top;\n",
              "    }\n",
              "\n",
              "    .dataframe thead th {\n",
              "        text-align: right;\n",
              "    }\n",
              "</style>\n",
              "<table border=\"1\" class=\"dataframe\">\n",
              "  <thead>\n",
              "    <tr style=\"text-align: right;\">\n",
              "      <th></th>\n",
              "      <th>New Cases</th>\n",
              "      <th>New Deaths</th>\n",
              "      <th>New Recovered</th>\n",
              "      <th>New Active Cases</th>\n",
              "      <th>Total Cases</th>\n",
              "      <th>Total Deaths</th>\n",
              "      <th>Total Recovered</th>\n",
              "      <th>Total Active Cases</th>\n",
              "      <th>HariKe</th>\n",
              "    </tr>\n",
              "  </thead>\n",
              "  <tbody>\n",
              "    <tr>\n",
              "      <th>count</th>\n",
              "      <td>285.000000</td>\n",
              "      <td>285.000000</td>\n",
              "      <td>285.000000</td>\n",
              "      <td>285.000000</td>\n",
              "      <td>285.000000</td>\n",
              "      <td>285.000000</td>\n",
              "      <td>285.000000</td>\n",
              "      <td>285.000000</td>\n",
              "      <td>285.000000</td>\n",
              "    </tr>\n",
              "    <tr>\n",
              "      <th>mean</th>\n",
              "      <td>224.782456</td>\n",
              "      <td>3.666667</td>\n",
              "      <td>185.045614</td>\n",
              "      <td>36.070175</td>\n",
              "      <td>13884.670175</td>\n",
              "      <td>308.775439</td>\n",
              "      <td>9500.645614</td>\n",
              "      <td>4075.249123</td>\n",
              "      <td>143.000000</td>\n",
              "    </tr>\n",
              "    <tr>\n",
              "      <th>std</th>\n",
              "      <td>281.695011</td>\n",
              "      <td>5.508423</td>\n",
              "      <td>270.028235</td>\n",
              "      <td>182.054072</td>\n",
              "      <td>17045.841674</td>\n",
              "      <td>279.099758</td>\n",
              "      <td>13575.885057</td>\n",
              "      <td>3649.139575</td>\n",
              "      <td>82.416625</td>\n",
              "    </tr>\n",
              "    <tr>\n",
              "      <th>min</th>\n",
              "      <td>0.000000</td>\n",
              "      <td>0.000000</td>\n",
              "      <td>0.000000</td>\n",
              "      <td>-689.000000</td>\n",
              "      <td>12.000000</td>\n",
              "      <td>5.000000</td>\n",
              "      <td>14.000000</td>\n",
              "      <td>-7.000000</td>\n",
              "      <td>1.000000</td>\n",
              "    </tr>\n",
              "    <tr>\n",
              "      <th>25%</th>\n",
              "      <td>26.000000</td>\n",
              "      <td>0.000000</td>\n",
              "      <td>7.000000</td>\n",
              "      <td>-2.000000</td>\n",
              "      <td>1658.000000</td>\n",
              "      <td>116.000000</td>\n",
              "      <td>255.000000</td>\n",
              "      <td>1226.000000</td>\n",
              "      <td>72.000000</td>\n",
              "    </tr>\n",
              "    <tr>\n",
              "      <th>50%</th>\n",
              "      <td>76.000000</td>\n",
              "      <td>1.000000</td>\n",
              "      <td>36.000000</td>\n",
              "      <td>20.000000</td>\n",
              "      <td>5704.000000</td>\n",
              "      <td>203.000000</td>\n",
              "      <td>2415.000000</td>\n",
              "      <td>2871.000000</td>\n",
              "      <td>143.000000</td>\n",
              "    </tr>\n",
              "    <tr>\n",
              "      <th>75%</th>\n",
              "      <td>364.000000</td>\n",
              "      <td>4.000000</td>\n",
              "      <td>318.000000</td>\n",
              "      <td>69.000000</td>\n",
              "      <td>22727.000000</td>\n",
              "      <td>435.000000</td>\n",
              "      <td>13666.000000</td>\n",
              "      <td>7926.000000</td>\n",
              "      <td>214.000000</td>\n",
              "    </tr>\n",
              "    <tr>\n",
              "      <th>max</th>\n",
              "      <td>1648.000000</td>\n",
              "      <td>33.000000</td>\n",
              "      <td>1220.000000</td>\n",
              "      <td>932.000000</td>\n",
              "      <td>64072.000000</td>\n",
              "      <td>1050.000000</td>\n",
              "      <td>52752.000000</td>\n",
              "      <td>10517.000000</td>\n",
              "      <td>285.000000</td>\n",
              "    </tr>\n",
              "  </tbody>\n",
              "</table>\n",
              "</div>"
            ],
            "text/plain": [
              "         New Cases  New Deaths  ...  Total Active Cases      HariKe\n",
              "count   285.000000  285.000000  ...          285.000000  285.000000\n",
              "mean    224.782456    3.666667  ...         4075.249123  143.000000\n",
              "std     281.695011    5.508423  ...         3649.139575   82.416625\n",
              "min       0.000000    0.000000  ...           -7.000000    1.000000\n",
              "25%      26.000000    0.000000  ...         1226.000000   72.000000\n",
              "50%      76.000000    1.000000  ...         2871.000000  143.000000\n",
              "75%     364.000000    4.000000  ...         7926.000000  214.000000\n",
              "max    1648.000000   33.000000  ...        10517.000000  285.000000\n",
              "\n",
              "[8 rows x 9 columns]"
            ]
          },
          "metadata": {
            "tags": []
          },
          "execution_count": 21
        }
      ]
    },
    {
      "cell_type": "markdown",
      "metadata": {
        "id": "oSEhK03gj1m-"
      },
      "source": [
        "# Analisis dan Visualisasi Data"
      ]
    },
    {
      "cell_type": "code",
      "metadata": {
        "colab": {
          "base_uri": "https://localhost:8080/",
          "height": 306
        },
        "id": "D8ZBIhciZbu4",
        "outputId": "6d0e7442-a669-456c-b78f-5feb13337c47"
      },
      "source": [
        "df['Date'] = pd.to_datetime(df['Date'])\n",
        "df['BaseDate'] = pd.to_datetime('2020-03-01')\n",
        "df['HariKe'] = df['Date'] - df['BaseDate']\n",
        "df.HariKe = df.HariKe/pd.Timedelta(1, unit = 'd')\n",
        "df.head()"
      ],
      "execution_count": null,
      "outputs": [
        {
          "output_type": "execute_result",
          "data": {
            "text/html": [
              "<div>\n",
              "<style scoped>\n",
              "    .dataframe tbody tr th:only-of-type {\n",
              "        vertical-align: middle;\n",
              "    }\n",
              "\n",
              "    .dataframe tbody tr th {\n",
              "        vertical-align: top;\n",
              "    }\n",
              "\n",
              "    .dataframe thead th {\n",
              "        text-align: right;\n",
              "    }\n",
              "</style>\n",
              "<table border=\"1\" class=\"dataframe\">\n",
              "  <thead>\n",
              "    <tr style=\"text-align: right;\">\n",
              "      <th></th>\n",
              "      <th>Date</th>\n",
              "      <th>Location ISO Code</th>\n",
              "      <th>Location</th>\n",
              "      <th>New Cases</th>\n",
              "      <th>New Deaths</th>\n",
              "      <th>New Recovered</th>\n",
              "      <th>New Active Cases</th>\n",
              "      <th>Total Cases</th>\n",
              "      <th>Total Deaths</th>\n",
              "      <th>Total Recovered</th>\n",
              "      <th>Total Active Cases</th>\n",
              "      <th>BaseDate</th>\n",
              "      <th>HariKe</th>\n",
              "    </tr>\n",
              "  </thead>\n",
              "  <tbody>\n",
              "    <tr>\n",
              "      <th>0</th>\n",
              "      <td>2020-03-02</td>\n",
              "      <td>ID-JB</td>\n",
              "      <td>Jawa Barat</td>\n",
              "      <td>3</td>\n",
              "      <td>0</td>\n",
              "      <td>0</td>\n",
              "      <td>3</td>\n",
              "      <td>12</td>\n",
              "      <td>5</td>\n",
              "      <td>14</td>\n",
              "      <td>-7</td>\n",
              "      <td>2020-03-01</td>\n",
              "      <td>1.0</td>\n",
              "    </tr>\n",
              "    <tr>\n",
              "      <th>1</th>\n",
              "      <td>2020-03-03</td>\n",
              "      <td>ID-JB</td>\n",
              "      <td>Jawa Barat</td>\n",
              "      <td>1</td>\n",
              "      <td>1</td>\n",
              "      <td>0</td>\n",
              "      <td>0</td>\n",
              "      <td>13</td>\n",
              "      <td>6</td>\n",
              "      <td>14</td>\n",
              "      <td>-7</td>\n",
              "      <td>2020-03-01</td>\n",
              "      <td>2.0</td>\n",
              "    </tr>\n",
              "    <tr>\n",
              "      <th>2</th>\n",
              "      <td>2020-03-04</td>\n",
              "      <td>ID-JB</td>\n",
              "      <td>Jawa Barat</td>\n",
              "      <td>1</td>\n",
              "      <td>0</td>\n",
              "      <td>0</td>\n",
              "      <td>1</td>\n",
              "      <td>14</td>\n",
              "      <td>6</td>\n",
              "      <td>14</td>\n",
              "      <td>-6</td>\n",
              "      <td>2020-03-01</td>\n",
              "      <td>3.0</td>\n",
              "    </tr>\n",
              "    <tr>\n",
              "      <th>3</th>\n",
              "      <td>2020-03-05</td>\n",
              "      <td>ID-JB</td>\n",
              "      <td>Jawa Barat</td>\n",
              "      <td>1</td>\n",
              "      <td>0</td>\n",
              "      <td>0</td>\n",
              "      <td>1</td>\n",
              "      <td>15</td>\n",
              "      <td>6</td>\n",
              "      <td>14</td>\n",
              "      <td>-5</td>\n",
              "      <td>2020-03-01</td>\n",
              "      <td>4.0</td>\n",
              "    </tr>\n",
              "    <tr>\n",
              "      <th>4</th>\n",
              "      <td>2020-03-06</td>\n",
              "      <td>ID-JB</td>\n",
              "      <td>Jawa Barat</td>\n",
              "      <td>1</td>\n",
              "      <td>0</td>\n",
              "      <td>0</td>\n",
              "      <td>1</td>\n",
              "      <td>16</td>\n",
              "      <td>6</td>\n",
              "      <td>14</td>\n",
              "      <td>-4</td>\n",
              "      <td>2020-03-01</td>\n",
              "      <td>5.0</td>\n",
              "    </tr>\n",
              "  </tbody>\n",
              "</table>\n",
              "</div>"
            ],
            "text/plain": [
              "        Date Location ISO Code  ...   BaseDate  HariKe\n",
              "0 2020-03-02             ID-JB  ... 2020-03-01     1.0\n",
              "1 2020-03-03             ID-JB  ... 2020-03-01     2.0\n",
              "2 2020-03-04             ID-JB  ... 2020-03-01     3.0\n",
              "3 2020-03-05             ID-JB  ... 2020-03-01     4.0\n",
              "4 2020-03-06             ID-JB  ... 2020-03-01     5.0\n",
              "\n",
              "[5 rows x 13 columns]"
            ]
          },
          "metadata": {
            "tags": []
          },
          "execution_count": 16
        }
      ]
    },
    {
      "cell_type": "code",
      "metadata": {
        "colab": {
          "base_uri": "https://localhost:8080/",
          "height": 279
        },
        "id": "SaaLO8oKZfVn",
        "outputId": "4be12b16-e29d-4c35-b425-d0c5720c8f9e"
      },
      "source": [
        "plt.plot(df.HariKe, df['New Cases'])\n",
        "plt.plot(df.HariKe, df['New Recovered'])\n",
        "plt.xlabel('Hari Ke-')\n",
        "plt.ylabel('Jumlah Kasus')\n",
        "plt.legend(['New Cases', 'New Recovered'])\n",
        "plt.show()"
      ],
      "execution_count": null,
      "outputs": [
        {
          "output_type": "display_data",
          "data": {
            "image/png": "[encoded data removed]",
            "text/plain": [
              "<Figure size 432x288 with 1 Axes>"
            ]
          },
          "metadata": {
            "tags": [],
            "needs_background": "light"
          }
        }
      ]
    },
    {
      "cell_type": "code",
      "metadata": {
        "colab": {
          "base_uri": "https://localhost:8080/",
          "height": 266
        },
        "id": "gdZDzaBxZjTn",
        "outputId": "67480c12-eb04-41a3-995a-41fb4d5a0372"
      },
      "source": [
        "cases = df[\"New Cases\"].sum() # mencari jumlah total kasus\n",
        "recovered = df['New Recovered'].sum() # mencari jumlah total kasus ditangani\n",
        "\n",
        "plt.pie([cases,recovered],labels=['New Cases','New Recovered'],autopct='%1.1f%%')\n",
        "plt.title('Rasio Jumlah Kasus Positif dan Kasus Sembuh')\n",
        "plt.axis('equal')\n",
        "plt.show()"
      ],
      "execution_count": null,
      "outputs": [
        {
          "output_type": "display_data",
          "data": {
            "image/png": "[encoded data removed]",
            "text/plain": [
              "<Figure size 432x288 with 1 Axes>"
            ]
          },
          "metadata": {
            "tags": []
          }
        }
      ]
    },
    {
      "cell_type": "markdown",
      "metadata": {
        "id": "f8OxUS3jj6J_"
      },
      "source": [
        "# Kesimpulan\n",
        "\n",
        "Berdasarkan hasil eksplorasi data yang dibuat, dapat ditarik kesimpulan bahwa angka kasus positif COVID-19 di Jawa Barat lebih tinggi daripada angka kasus sembuhnya. Dapat dibuktikan dengan melihat ukuran pemusatan datanya, pada bagian \"mean\" menunjukkan bahwa rata-rata kasus positif per hari nya mencapai 225 orang sedangkan rata-rata kasus sembuh per harinya adalah 186 orang. "
      ]
    }
  ]
}